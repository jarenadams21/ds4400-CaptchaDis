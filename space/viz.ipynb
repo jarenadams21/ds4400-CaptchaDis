{
 "cells": [
  {
   "cell_type": "code",
   "execution_count": 8,
   "metadata": {},
   "outputs": [
    {
     "name": "stdout",
     "output_type": "stream",
     "text": [
      "length = 0.65325s\n",
      "samplerate: 48000\n",
      "tensor([[6.1035e-05, 6.1035e-05, 6.1035e-05,  ..., 5.7983e-04, 5.7983e-04,\n",
      "         5.4932e-04]]) \n",
      "\n",
      "length = 0.7729791666666667s\n",
      "samplerate: 48000\n",
      "tensor([[-0.0009, -0.0009, -0.0009,  ..., -0.0002, -0.0001, -0.0001]]) \n",
      "\n",
      "length = 0.8206041666666667s\n",
      "samplerate: 48000\n",
      "tensor([[ 9.1553e-05,  6.1035e-05,  9.1553e-05,  ..., -6.4087e-04,\n",
      "         -6.7139e-04, -6.7139e-04]]) \n",
      "\n"
     ]
    },
    {
     "ename": "KeyboardInterrupt",
     "evalue": "",
     "output_type": "error",
     "traceback": [
      "\u001b[0;31m---------------------------------------------------------------------------\u001b[0m",
      "\u001b[0;31mKeyboardInterrupt\u001b[0m                         Traceback (most recent call last)",
      "Cell \u001b[0;32mIn[8], line 45\u001b[0m\n\u001b[1;32m     43\u001b[0m \u001b[38;5;66;03m#close PyAudio  \u001b[39;00m\n\u001b[1;32m     44\u001b[0m p\u001b[38;5;241m.\u001b[39mterminate()  \n\u001b[0;32m---> 45\u001b[0m \u001b[43mtime\u001b[49m\u001b[38;5;241;43m.\u001b[39;49m\u001b[43msleep\u001b[49m\u001b[43m(\u001b[49m\u001b[38;5;241;43m.5\u001b[39;49m\u001b[43m)\u001b[49m\n",
      "\u001b[0;31mKeyboardInterrupt\u001b[0m: "
     ]
    }
   ],
   "source": [
    "import numpy as np\n",
    "import wave\n",
    "from scipy.io import wavfile\n",
    "import torch\n",
    "import torchaudio\n",
    "import pyaudio\n",
    "import wave\n",
    "import time\n",
    "\n",
    "\n",
    "for i in range(1, 50):    \n",
    "    _, datas = wavfile.read(('./data/01/0_01_' + str(i) + '.wav'))\n",
    "    data, samplerate = torchaudio.load(('./data/01/0_01_' + str(i) + '.wav'))\n",
    "   \n",
    "    length = datas.shape[0] / samplerate\n",
    "    print(f\"length = {length}s\")\n",
    "   \n",
    "    print('samplerate:', samplerate)\n",
    "    print(data, '\\n')\n",
    "   \n",
    "    chunk = 1024  \n",
    "    #open a wav format music  \n",
    "    f = wave.open(('./data/01/0_01_' + str(i) + '.wav'),\"rb\")  \n",
    "    #instantiate PyAudio  \n",
    "    p = pyaudio.PyAudio()  \n",
    "    #open stream  \n",
    "    stream = p.open(format = p.get_format_from_width(f.getsampwidth()),  \n",
    "                channels = f.getnchannels(),  \n",
    "                rate = f.getframerate(),  \n",
    "                output = True)  \n",
    "    #read data  \n",
    "    data = f.readframes(chunk)  \n",
    " \n",
    "    #play stream  \n",
    "    while data:  \n",
    "        stream.write(data)  \n",
    "        data = f.readframes(chunk)  \n",
    " \n",
    "    #stop stream  \n",
    "    stream.stop_stream()  \n",
    "    stream.close()  \n",
    " \n",
    "    #close PyAudio  \n",
    "    p.terminate()  \n",
    "    time.sleep(.5)"
   ]
  }
 ],
 "metadata": {
  "interpreter": {
   "hash": "22d33a0debf81d76012e3fb50f9daecad1e12ff320a017e9164c9b4ad368a7e6"
  },
  "kernelspec": {
   "display_name": "Python 3.9.13 ('space': venv)",
   "language": "python",
   "name": "python3"
  },
  "language_info": {
   "codemirror_mode": {
    "name": "ipython",
    "version": 3
   },
   "file_extension": ".py",
   "mimetype": "text/x-python",
   "name": "python",
   "nbconvert_exporter": "python",
   "pygments_lexer": "ipython3",
   "version": "3.9.13"
  },
  "orig_nbformat": 4
 },
 "nbformat": 4,
 "nbformat_minor": 2
}
