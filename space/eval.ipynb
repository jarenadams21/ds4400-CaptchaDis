{
 "cells": [
  {
   "cell_type": "code",
   "execution_count": 80,
   "metadata": {},
   "outputs": [],
   "source": [
    "## Imports\n",
    "import matplotlib.pyplot as plt\n",
    "import pandas as pd\n",
    "from scipy.io import wavfile as wv\n",
    "import torch\n",
    "import torch.nn as nn\n",
    "from tqdm import tqdm\n",
    "from audioMNIST import AudioMNIST\n",
    "from DClassifier import CNN2DAudioClassifier\n",
    "from torch.utils.data import DataLoader, random_split"
   ]
  },
  {
   "cell_type": "code",
   "execution_count": 81,
   "metadata": {},
   "outputs": [],
   "source": [
    "file_paths = './data/'"
   ]
  },
  {
   "cell_type": "code",
   "execution_count": 82,
   "metadata": {},
   "outputs": [
    {
     "name": "stdout",
     "output_type": "stream",
     "text": [
      "Using CPU\n"
     ]
    }
   ],
   "source": [
    "if torch.cuda.is_available():\n",
    "    print(\"Using CUDA device\")\n",
    "    device = torch.device(\"cuda:0\")\n",
    "else:\n",
    "    print(\"Using CPU\")\n",
    "    device = torch.device('cpu')"
   ]
  },
  {
   "cell_type": "code",
   "execution_count": 83,
   "metadata": {},
   "outputs": [],
   "source": [
    "# Evaluation\n",
    "def evaluate(model, val_dl): \n",
    "    running_loss = 0.0\n",
    "    correct_prediction = 0\n",
    "    total_prediction = 0\n",
    "        \n",
    "    for data in tqdm(val_dl):\n",
    "        inputs, labels = data[0].to(device), data[1].to(device)\n",
    "\n",
    "        inputs_m, inputs_s = inputs.mean(), inputs.std()\n",
    "        inputs = (inputs - inputs_m) / inputs_s\n",
    "\n",
    "        optimizer.zero_grad()\n",
    "\n",
    "        outputs = model(inputs.to(device))\n",
    "        loss = criterion(outputs, labels.to(device))\n",
    "\n",
    "        running_loss += loss.item()\n",
    "\n",
    "        _, prediction = torch.max(outputs, 1)\n",
    "        correct_prediction += (prediction == labels).sum().item()\n",
    "        total_prediction += prediction.shape[0]\n",
    "\n",
    "    num_batches = len(val_dl)\n",
    "    avg_loss = running_loss / num_batches\n",
    "    acc = correct_prediction / total_prediction\n",
    "\n",
    "    return acc, avg_loss"
   ]
  },
  {
   "cell_type": "code",
   "execution_count": 84,
   "metadata": {},
   "outputs": [],
   "source": [
    "# Training\n",
    "def training(model, train_dl, val_dl, num_epochs, \n",
    "             criterion, optimizer, scheduler):\n",
    "    losses = []\n",
    "    val_losses = []\n",
    "    for epoch in range(num_epochs):\n",
    "        running_loss = 0.0\n",
    "        correct_prediction = 0\n",
    "        total_prediction = 0\n",
    "        \n",
    "        for data in tqdm(train_dl):\n",
    "            inputs, labels = data[0].to(device), data[1].to(device)\n",
    "            \n",
    "            inputs_m, inputs_s = inputs.mean(), inputs.std()\n",
    "            inputs = (inputs - inputs_m) / inputs_s\n",
    "            \n",
    "            optimizer.zero_grad()\n",
    "            \n",
    "            outputs = model(inputs.to(device))\n",
    "            loss = criterion(outputs, labels.to(device))\n",
    "            loss.backward()\n",
    "            optimizer.step()\n",
    "            scheduler.step()\n",
    "            \n",
    "            running_loss += loss.item()\n",
    "            \n",
    "            _, prediction = torch.max(outputs, 1)\n",
    "            correct_prediction += (prediction == labels).sum().item()\n",
    "            total_prediction += prediction.shape[0]\n",
    "            \n",
    "        num_batches = len(train_dl)\n",
    "        avg_loss = running_loss / num_batches\n",
    "        acc = correct_prediction / total_prediction\n",
    "        \n",
    "        v_acc, v_loss = evaluate(model.to(device), val_dl)\n",
    "        \n",
    "        print(\"Epoch: %d, Loss: %.4f, Train Accuracy: %.2f, Val. Loss: %.4f, Val. Accuracy: %.2f\" % (\n",
    "            epoch + 1, avg_loss, acc, v_loss, v_acc\n",
    "        ))\n",
    "        \n",
    "        losses.append(avg_loss)\n",
    "        val_losses.append(v_loss)\n",
    "        \n",
    "    return losses, val_losses"
   ]
  },
  {
   "cell_type": "code",
   "execution_count": 85,
   "metadata": {},
   "outputs": [],
   "source": [
    "if __name__ == '__main__':\n",
    "    model = CNN2DAudioClassifier().to(device)\n",
    "\n",
    "    # dataset\n",
    "    dataset = AudioMNIST()\n",
    "\n",
    "    # 60-20-20 split\n",
    "    n_total = len(dataset)\n",
    "    n_train = int(n_total * 0.6)\n",
    "    n_val = int(n_total * 0.2)\n",
    "    n_test = n_total - n_train - n_val\n",
    "\n",
    "    # Split the dataset\n",
    "    train_ds, val_ds, test_ds = random_split(dataset, [n_train, n_val, n_test])\n",
    "\n",
    "    # DataLoader instances\n",
    "    train_dl = DataLoader(train_ds, batch_size=64, shuffle=True, num_workers=2)\n",
    "    val_dl = DataLoader(val_ds, batch_size=64, shuffle=False, num_workers=2)\n",
    "    test_dl = DataLoader(test_ds, batch_size=32, shuffle=False, num_workers=2)"
   ]
  },
  {
   "cell_type": "code",
   "execution_count": 86,
   "metadata": {},
   "outputs": [],
   "source": [
    "N_EPOCHS = 4\n",
    "\n",
    "criterion = nn.CrossEntropyLoss()\n",
    "optimizer = torch.optim.Adam(model.parameters(), lr=0.001)\n",
    "scheduler = torch.optim.lr_scheduler.OneCycleLR(optimizer, \n",
    "                                                max_lr=0.001, \n",
    "                                                steps_per_epoch=int(len(train_dl)), \n",
    "                                                epochs=N_EPOCHS, \n",
    "                                                anneal_strategy='linear')"
   ]
  },
  {
   "cell_type": "code",
   "execution_count": 87,
   "metadata": {},
   "outputs": [
    {
     "name": "stderr",
     "output_type": "stream",
     "text": [
      "100%|██████████| 282/282 [00:46<00:00,  6.10it/s]\n",
      "100%|██████████| 94/94 [00:24<00:00,  3.86it/s]\n"
     ]
    },
    {
     "name": "stdout",
     "output_type": "stream",
     "text": [
      "Epoch: 1, Loss: 1.5742, Train Accuracy: 0.50, Val. Loss: 0.6424, Val. Accuracy: 0.85\n"
     ]
    },
    {
     "name": "stderr",
     "output_type": "stream",
     "text": [
      "100%|██████████| 282/282 [00:44<00:00,  6.30it/s]\n",
      "100%|██████████| 94/94 [00:24<00:00,  3.83it/s]\n"
     ]
    },
    {
     "name": "stdout",
     "output_type": "stream",
     "text": [
      "Epoch: 2, Loss: 0.2944, Train Accuracy: 0.94, Val. Loss: 0.1660, Val. Accuracy: 0.96\n"
     ]
    },
    {
     "name": "stderr",
     "output_type": "stream",
     "text": [
      "100%|██████████| 282/282 [00:45<00:00,  6.20it/s]\n",
      "100%|██████████| 94/94 [00:24<00:00,  3.78it/s]\n"
     ]
    },
    {
     "name": "stdout",
     "output_type": "stream",
     "text": [
      "Epoch: 3, Loss: 0.1191, Train Accuracy: 0.97, Val. Loss: 0.1057, Val. Accuracy: 0.97\n"
     ]
    },
    {
     "name": "stderr",
     "output_type": "stream",
     "text": [
      "100%|██████████| 282/282 [00:45<00:00,  6.25it/s]\n",
      "100%|██████████| 94/94 [00:28<00:00,  3.27it/s]"
     ]
    },
    {
     "name": "stdout",
     "output_type": "stream",
     "text": [
      "Epoch: 4, Loss: 0.0865, Train Accuracy: 0.98, Val. Loss: 0.0921, Val. Accuracy: 0.98\n"
     ]
    },
    {
     "name": "stderr",
     "output_type": "stream",
     "text": [
      "\n"
     ]
    }
   ],
   "source": [
    "losses, val_losses = training(model, train_dl, val_dl, N_EPOCHS, criterion, optimizer, scheduler)"
   ]
  },
  {
   "cell_type": "code",
   "execution_count": 88,
   "metadata": {},
   "outputs": [],
   "source": [
    "from tqdm import tqdm\n",
    "from sklearn.metrics import confusion_matrix, accuracy_score, f1_score\n",
    "import seaborn as sns\n",
    "import matplotlib.pyplot as plt\n",
    "\n",
    "def final_evaluate(model, test_dl):\n",
    "    model.eval()  # Ensure the model is in evaluation mode\n",
    "\n",
    "    running_loss = 0.0\n",
    "    correct_prediction = 0\n",
    "    total_prediction = 0\n",
    "    all_labels = []\n",
    "    all_predictions = []\n",
    "\n",
    "    for data in tqdm(test_dl):\n",
    "        inputs, labels = data[0].to(device), data[1].to(device)\n",
    "\n",
    "        # Normalize inputs\n",
    "        inputs_m, inputs_s = inputs.mean(), inputs.std()\n",
    "        inputs = (inputs - inputs_m) / inputs_s\n",
    "\n",
    "        optimizer.zero_grad()\n",
    "\n",
    "        with torch.no_grad():  # Ensure no gradients are computed in the forward pass\n",
    "            outputs = model(inputs)\n",
    "            loss = criterion(outputs, labels)\n",
    "\n",
    "        running_loss += loss.item()\n",
    "\n",
    "        _, predictions = torch.max(outputs, 1)\n",
    "        correct_prediction += (predictions == labels).sum().item()\n",
    "        total_prediction += predictions.shape[0]\n",
    "\n",
    "        # Collect all labels and predictions for confusion matrix\n",
    "        all_labels.extend(labels.cpu().numpy())\n",
    "        all_predictions.extend(predictions.cpu().numpy())\n",
    "\n",
    "    num_batches = len(test_dl)\n",
    "    avg_loss = running_loss / num_batches\n",
    "    accuracy = correct_prediction / total_prediction\n",
    "    f1_macro = f1_score(all_labels, all_predictions, average='macro')\n",
    "\n",
    "    # Compute the confusion matrix\n",
    "    cm = confusion_matrix(all_labels, all_predictions)\n",
    "    plt.figure(figsize=(10, 7))\n",
    "    sns.heatmap(cm, annot=True, fmt=\"d\", cmap='Blues', xticklabels=[0,1,2,3,4,5,6,7,8,9], yticklabels=[0,1,2,3,4,5,6,7,8,9])\n",
    "    plt.xlabel('Predicted Labels')\n",
    "    plt.ylabel('True Labels')\n",
    "    plt.title('Confusion Matrix')\n",
    "    plt.show()\n",
    "\n",
    "    print(f\"Accuracy: {accuracy:.4f}, Macro F1 Score: {f1_macro:.4f}, Average Loss: {avg_loss:.4f}\")\n",
    "\n",
    "    return accuracy, f1_macro, avg_loss"
   ]
  },
  {
   "cell_type": "code",
   "execution_count": 89,
   "metadata": {},
   "outputs": [
    {
     "name": "stderr",
     "output_type": "stream",
     "text": [
      "100%|██████████| 188/188 [00:26<00:00,  7.04it/s]\n"
     ]
    },
    {
     "data": {
      "image/png": "[encoded data removed]",
      "text/plain": [
       "<Figure size 1000x700 with 2 Axes>"
      ]
     },
     "metadata": {},
     "output_type": "display_data"
    },
    {
     "name": "stdout",
     "output_type": "stream",
     "text": [
      "Accuracy: 0.9843, Macro F1 Score: 0.9843, Average Loss: 0.0724\n"
     ]
    },
    {
     "data": {
      "text/plain": [
       "(0.9843333333333333, 0.9843419692093848, 0.07237074068905984)"
      ]
     },
     "execution_count": 89,
     "metadata": {},
     "output_type": "execute_result"
    }
   ],
   "source": [
    "final_evaluate(model, test_dl)"
   ]
  },
  {
   "cell_type": "code",
   "execution_count": null,
   "metadata": {},
   "outputs": [],
   "source": []
  }
 ],
 "metadata": {
  "interpreter": {
   "hash": "22d33a0debf81d76012e3fb50f9daecad1e12ff320a017e9164c9b4ad368a7e6"
  },
  "kernelspec": {
   "display_name": "Python 3.9.13 ('space': venv)",
   "language": "python",
   "name": "python3"
  },
  "language_info": {
   "codemirror_mode": {
    "name": "ipython",
    "version": 3
   },
   "file_extension": ".py",
   "mimetype": "text/x-python",
   "name": "python",
   "nbconvert_exporter": "python",
   "pygments_lexer": "ipython3",
   "version": "3.9.13"
  },
  "orig_nbformat": 4
 },
 "nbformat": 4,
 "nbformat_minor": 2
}
